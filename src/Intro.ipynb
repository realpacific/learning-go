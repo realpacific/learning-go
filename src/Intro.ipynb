{
 "cells": [
  {
   "cell_type": "code",
   "execution_count": 1,
   "metadata": {},
   "outputs": [],
   "source": [
    "variable := \"Hello\""
   ]
  },
  {
   "cell_type": "code",
   "execution_count": 2,
   "metadata": {},
   "outputs": [
    {
     "data": {
      "text/plain": [
       "Hello"
      ]
     },
     "execution_count": 2,
     "metadata": {},
     "output_type": "execute_result"
    }
   ],
   "source": [
    "variable"
   ]
  },
  {
   "cell_type": "code",
   "execution_count": 3,
   "metadata": {},
   "outputs": [],
   "source": [
    "var high int; var low bool; var ticker string"
   ]
  },
  {
   "cell_type": "code",
   "execution_count": 4,
   "metadata": {},
   "outputs": [],
   "source": [
    "open, close := 10, 10.2"
   ]
  },
  {
   "cell_type": "markdown",
   "metadata": {},
   "source": [
    "Static declaration"
   ]
  },
  {
   "cell_type": "code",
   "execution_count": 5,
   "metadata": {},
   "outputs": [],
   "source": [
    "var open uint32 = 10"
   ]
  },
  {
   "cell_type": "markdown",
   "metadata": {},
   "source": [
    "# package > fmt"
   ]
  },
  {
   "cell_type": "code",
   "execution_count": 6,
   "metadata": {},
   "outputs": [],
   "source": [
    "import \"fmt\""
   ]
  },
  {
   "cell_type": "markdown",
   "metadata": {},
   "source": [
    "Print type using %T"
   ]
  },
  {
   "cell_type": "code",
   "execution_count": 7,
   "metadata": {},
   "outputs": [
    {
     "name": "stdout",
     "output_type": "stream",
     "text": [
      "Type of variable is::: string"
     ]
    },
    {
     "data": {
      "text/plain": [
       "29 <nil>"
      ]
     },
     "execution_count": 7,
     "metadata": {},
     "output_type": "execute_result"
    }
   ],
   "source": [
    "fmt.Printf(\"Type of variable is::: %T\", variable)"
   ]
  },
  {
   "cell_type": "code",
   "execution_count": 8,
   "metadata": {},
   "outputs": [
    {
     "name": "stdout",
     "output_type": "stream",
     "text": [
      "open is uint32, close is float64"
     ]
    },
    {
     "data": {
      "text/plain": [
       "32 <nil>"
      ]
     },
     "execution_count": 8,
     "metadata": {},
     "output_type": "execute_result"
    }
   ],
   "source": [
    "fmt.Printf(\"open is %T, close is %T\", open, close)"
   ]
  },
  {
   "cell_type": "code",
   "execution_count": 9,
   "metadata": {},
   "outputs": [
    {
     "name": "stdout",
     "output_type": "stream",
     "text": [
      "open is uint32"
     ]
    },
    {
     "data": {
      "text/plain": [
       "14 <nil>"
      ]
     },
     "execution_count": 9,
     "metadata": {},
     "output_type": "execute_result"
    }
   ],
   "source": [
    "fmt.Printf(\"open is %T\", open)"
   ]
  },
  {
   "cell_type": "markdown",
   "metadata": {},
   "source": [
    "`fmt.Sprintf` returns formatted string whereas `fmt.Printf` simply prints it.\n",
    "\n",
    "`%s` interpolates a string, `%v` is default representation, `%d` for integer, `%f` (and `%.2f` variants) for floats"
   ]
  },
  {
   "cell_type": "code",
   "execution_count": 10,
   "metadata": {},
   "outputs": [
    {
     "name": "stdout",
     "output_type": "stream",
     "text": [
      "0.012"
     ]
    },
    {
     "data": {
      "text/plain": [
       "5 <nil>"
      ]
     },
     "execution_count": 10,
     "metadata": {},
     "output_type": "execute_result"
    }
   ],
   "source": [
    "floatvar := 0.01200001\n",
    "temp := fmt.Sprintf(\"%.3f\", floatvar)\n",
    "fmt.Printf(\"%s\", temp)"
   ]
  },
  {
   "cell_type": "code",
   "execution_count": 11,
   "metadata": {},
   "outputs": [
    {
     "name": "stdout",
     "output_type": "stream",
     "text": [
      "less than 1\n"
     ]
    }
   ],
   "source": [
    "if floatvar < 1 {\n",
    "    fmt.Println(\"less than 1\")\n",
    "}"
   ]
  },
  {
   "cell_type": "markdown",
   "metadata": {},
   "source": [
    "# Functions"
   ]
  },
  {
   "cell_type": "code",
   "execution_count": 12,
   "metadata": {},
   "outputs": [
    {
     "name": "stdout",
     "output_type": "stream",
     "text": [
      "-1\n"
     ]
    },
    {
     "data": {
      "text/plain": [
       "3 <nil>"
      ]
     },
     "execution_count": 12,
     "metadata": {},
     "output_type": "execute_result"
    }
   ],
   "source": [
    "func sub(x, y int) int {\n",
    "    return x - y\n",
    "}\n",
    "\n",
    "fmt.Println(sub(1, 2))"
   ]
  },
  {
   "cell_type": "code",
   "execution_count": 13,
   "metadata": {},
   "outputs": [
    {
     "name": "stdout",
     "output_type": "stream",
     "text": [
      "John Doe\n"
     ]
    },
    {
     "data": {
      "text/plain": [
       "9 <nil>"
      ]
     },
     "execution_count": 13,
     "metadata": {},
     "output_type": "execute_result"
    }
   ],
   "source": [
    "import \"strings\"\n",
    "\n",
    "func split(str string) (string, string) {\n",
    "    temp := strings.Split(str, \" \")\n",
    "    return temp[0], temp[len(temp) - 1]\n",
    "}\n",
    "\n",
    "fmt.Println(split(\"John H Doe\"))"
   ]
  },
  {
   "cell_type": "markdown",
   "metadata": {},
   "source": [
    "The return typed is inferred when using \"named\" returns."
   ]
  },
  {
   "cell_type": "code",
   "execution_count": 14,
   "metadata": {},
   "outputs": [
    {
     "name": "stdout",
     "output_type": "stream",
     "text": [
      "200 -10 30\n"
     ]
    },
    {
     "data": {
      "text/plain": [
       "11 <nil>"
      ]
     },
     "execution_count": 14,
     "metadata": {},
     "output_type": "execute_result"
    }
   ],
   "source": [
    "func calculate(x, y float64) (mul, sub, add float64) {\n",
    "    mul := x * y\n",
    "    add := x + y\n",
    "    sub := x - y\n",
    "    return \n",
    "}\n",
    "\n",
    "fmt.Println(calculate(10, 20))"
   ]
  },
  {
   "cell_type": "code",
   "execution_count": 15,
   "metadata": {},
   "outputs": [],
   "source": [
    "type Vertex struct {\n",
    "    X, Y float64\n",
    "}\n",
    "\n",
    "// takes pointer\n",
    "func (v *Vertex) Scale(f float64) {\n",
    "    v.X = v.X * f\n",
    "    v.Y = v.Y * f\n",
    "}\n",
    "\n",
    "// behaves like Kotlin's extension function\n",
    "func (v Vertex) ScaleExt(f float64) {\n",
    "    v.X = v.X * f\n",
    "    v.Y = v.Y * f\n",
    "}\n",
    "\n",
    "func (v Vertex) ScaleExtReturn(f float64) Vertex {\n",
    "    v.X = v.X * f\n",
    "    v.Y = v.Y * f\n",
    "    return v\n",
    "}\n"
   ]
  },
  {
   "cell_type": "code",
   "execution_count": 16,
   "metadata": {},
   "outputs": [
    {
     "name": "stdout",
     "output_type": "stream",
     "text": [
      "{1000 2000}\n"
     ]
    },
    {
     "data": {
      "text/plain": [
       "12 <nil>"
      ]
     },
     "execution_count": 16,
     "metadata": {},
     "output_type": "execute_result"
    }
   ],
   "source": [
    "v := Vertex{10, 20}\n",
    "v.Scale(10)\n",
    "\n",
    "//Go automatically calls\n",
    "(&v).Scale(10)\n",
    "fmt.Println(v)"
   ]
  },
  {
   "cell_type": "code",
   "execution_count": 17,
   "metadata": {
    "scrolled": true
   },
   "outputs": [
    {
     "name": "stdout",
     "output_type": "stream",
     "text": [
      "{10 20}\n"
     ]
    },
    {
     "data": {
      "text/plain": [
       "8 <nil>"
      ]
     },
     "execution_count": 17,
     "metadata": {},
     "output_type": "execute_result"
    }
   ],
   "source": [
    "v := Vertex{10, 20}\n",
    "v.ScaleExt(10) // v.X and v.Y remains the same\n",
    "fmt.Println(v)"
   ]
  },
  {
   "cell_type": "code",
   "execution_count": 18,
   "metadata": {},
   "outputs": [
    {
     "name": "stdout",
     "output_type": "stream",
     "text": [
      "{100 200}\n"
     ]
    },
    {
     "data": {
      "text/plain": [
       "10 <nil>"
      ]
     },
     "execution_count": 18,
     "metadata": {},
     "output_type": "execute_result"
    }
   ],
   "source": [
    "v := Vertex{10, 20}\n",
    "anotherV := v.ScaleExtReturn(10)\n",
    "fmt.Println(anotherV)"
   ]
  },
  {
   "cell_type": "markdown",
   "metadata": {},
   "source": [
    "# Functions as arguments"
   ]
  },
  {
   "cell_type": "code",
   "execution_count": 19,
   "metadata": {
    "scrolled": true
   },
   "outputs": [
    {
     "name": "stdout",
     "output_type": "stream",
     "text": [
      "15\n"
     ]
    },
    {
     "data": {
      "text/plain": [
       "3 <nil>"
      ]
     },
     "execution_count": 19,
     "metadata": {},
     "output_type": "execute_result"
    }
   ],
   "source": [
    "func incrementBy(a, b int) int {\n",
    "    return a + b\n",
    "}\n",
    "\n",
    "func transform(f func(int, int) int, a int, b int) int {\n",
    "    return f(a, b)\n",
    "}\n",
    "\n",
    "fmt.Println(transform(incrementBy, 10, 5))"
   ]
  },
  {
   "cell_type": "markdown",
   "metadata": {},
   "source": [
    "# Functions closure"
   ]
  },
  {
   "cell_type": "code",
   "execution_count": 20,
   "metadata": {},
   "outputs": [
    {
     "name": "stdout",
     "output_type": "stream",
     "text": [
      "\n",
      "1\n",
      "2\n",
      "3\n",
      "4"
     ]
    }
   ],
   "source": [
    "func lazyEval(f func()) func() {\n",
    "    called := 0\n",
    "    return func() {\n",
    "        called += 1\n",
    "        f()\n",
    "        fmt.Print(called)\n",
    "    }\n",
    "}\n",
    "\n",
    "fn := func() {\n",
    "    fmt.Println()\n",
    "}\n",
    "\n",
    "evaluator := lazyEval(fn)\n",
    "evaluator()\n",
    "evaluator()\n",
    "evaluator()\n",
    "evaluator()"
   ]
  },
  {
   "cell_type": "markdown",
   "metadata": {},
   "source": [
    "# Arrays"
   ]
  },
  {
   "cell_type": "code",
   "execution_count": 63,
   "metadata": {},
   "outputs": [
    {
     "name": "stdout",
     "output_type": "stream",
     "text": [
      "[Test User]\n"
     ]
    },
    {
     "data": {
      "text/plain": [
       "12 <nil>"
      ]
     },
     "execution_count": 63,
     "metadata": {},
     "output_type": "execute_result"
    }
   ],
   "source": [
    "var names [2]string\n",
    "\n",
    "names[0] = \"Test\"\n",
    "names[1] = \"User\"\n",
    "fmt.Println(names)"
   ]
  },
  {
   "cell_type": "markdown",
   "metadata": {},
   "source": [
    "# Slices\n",
    "\n",
    "Dynamically sized arrays"
   ]
  },
  {
   "cell_type": "code",
   "execution_count": 80,
   "metadata": {
    "scrolled": true
   },
   "outputs": [
    {
     "name": "stdout",
     "output_type": "stream",
     "text": [
      "Length is 0, Capacity is 0\n",
      "Length is 7, Capacity is 7\n",
      "[1 4 9 16 25 36 49]\n"
     ]
    },
    {
     "data": {
      "text/plain": [
       "20 <nil>"
      ]
     },
     "execution_count": 80,
     "metadata": {},
     "output_type": "execute_result"
    }
   ],
   "source": [
    "integers := []int{}\n",
    "fmt.Printf(\"Length is %v, Capacity is %v\\n\", len(integers), cap(integers))\n",
    "\n",
    "integers = []int{1,2,3,4,5,6,7}\n",
    "fmt.Printf(\"Length is %v, Capacity is %v\\n\", len(integers), cap(integers))\n",
    "\n",
    "func apply(data []int, fn func(int) int) []int {\n",
    "    result := []int{}\n",
    "    for _, i  := range data {\n",
    "        result = append(result, fn(i))\n",
    "    } \n",
    "    return result\n",
    "}\n",
    "\n",
    "\n",
    "fmt.Println(apply(integers,b func(a int) int {\n",
    "    return a * a\n",
    "}))\n",
    "\n"
   ]
  },
  {
   "cell_type": "markdown",
   "metadata": {},
   "source": [
    "# Maps"
   ]
  },
  {
   "cell_type": "code",
   "execution_count": 92,
   "metadata": {},
   "outputs": [
    {
     "name": "stdout",
     "output_type": "stream",
     "text": [
      "map[z:26 a:1 b:2]\n",
      "map[z:23 a:1 b:2]\n",
      "map[b:2 a:1]\n"
     ]
    },
    {
     "data": {
      "text/plain": [
       "13 <nil>"
      ]
     },
     "execution_count": 92,
     "metadata": {},
     "output_type": "execute_result"
    }
   ],
   "source": [
    "m := make(map[string]int, 10)\n",
    "// or\n",
    "m = map[string]int{\n",
    "    \"z\": 26,\n",
    "}\n",
    "\n",
    "m[\"a\"] = 1\n",
    "m[\"b\"] = 2\n",
    "fmt.Println(m)\n",
    "m[\"z\"] = 23\n",
    "fmt.Println(m)\n",
    "delete(m, \"z\")\n",
    "fmt.Println(m)"
   ]
  },
  {
   "cell_type": "markdown",
   "metadata": {},
   "source": [
    "# Pointers"
   ]
  },
  {
   "cell_type": "markdown",
   "metadata": {},
   "source": [
    "`*` is used to dereference, `&` is used to pass reference"
   ]
  },
  {
   "cell_type": "code",
   "execution_count": 21,
   "metadata": {},
   "outputs": [
    {
     "name": "stdout",
     "output_type": "stream",
     "text": [
      "Location of a: 0xc0006aa028, value: 5"
     ]
    },
    {
     "data": {
      "text/plain": [
       "37 <nil>"
      ]
     },
     "execution_count": 21,
     "metadata": {},
     "output_type": "execute_result"
    }
   ],
   "source": [
    "a := 5\n",
    "fmt.Printf(\"Location of a: %p, value: %v\", &a, a)"
   ]
  },
  {
   "cell_type": "code",
   "execution_count": 22,
   "metadata": {},
   "outputs": [
    {
     "name": "stdout",
     "output_type": "stream",
     "text": [
      "b: 0xc0000bbf10 0xc0006aa028 5"
     ]
    },
    {
     "data": {
      "text/plain": [
       "30 <nil>"
      ]
     },
     "execution_count": 22,
     "metadata": {},
     "output_type": "execute_result"
    }
   ],
   "source": [
    "b := &a\n",
    "fmt.Printf(\"b: %v %v %v\", &b, b, *b)"
   ]
  },
  {
   "cell_type": "code",
   "execution_count": 23,
   "metadata": {},
   "outputs": [
    {
     "name": "stdout",
     "output_type": "stream",
     "text": [
      "b = 3\n",
      "a = 3"
     ]
    },
    {
     "data": {
      "text/plain": [
       "5 <nil>"
      ]
     },
     "execution_count": 23,
     "metadata": {},
     "output_type": "execute_result"
    }
   ],
   "source": [
    "*b = 3\n",
    "fmt.Printf(\"b = %v\\n\", *b)\n",
    "fmt.Printf(\"a = %v\", a)"
   ]
  },
  {
   "cell_type": "markdown",
   "metadata": {},
   "source": [
    "# Structs"
   ]
  },
  {
   "cell_type": "code",
   "execution_count": 24,
   "metadata": {},
   "outputs": [
    {
     "name": "stdout",
     "output_type": "stream",
     "text": [
      "{  }\n",
      "{21st Jump Street  }\n",
      "Clearing address\t{21st Jump Street  }\n",
      "Clearing address\t{  }\n"
     ]
    },
    {
     "data": {
      "text/plain": [
       "5 <nil>"
      ]
     },
     "execution_count": 24,
     "metadata": {},
     "output_type": "execute_result"
    }
   ],
   "source": [
    "type Address struct {\n",
    "    Street string\n",
    "    City string\n",
    "    Zip string\n",
    "}\n",
    "\n",
    "emptyAddress := Address {}\n",
    "fmt.Println(emptyAddress)\n",
    "\n",
    "emptyAddress.Street = \"21st Jump Street\"\n",
    "fmt.Println(emptyAddress)\n",
    "\n",
    "func resetAddress(addr Address) {\n",
    "    fmt.Print(\"Clearing address\\t\")\n",
    "    addr.Street = \"\"\n",
    "    addr.City = \"\"\n",
    "    addr.Zip = \"\"\n",
    "}\n",
    "\n",
    "resetAddress(emptyAddress)\n",
    "fmt.Println(emptyAddress)\n",
    "\n",
    "\n",
    "// pass by reference\n",
    "func resetAddressFix(addr *Address) {\n",
    "    fmt.Print(\"Clearing address\\t\")\n",
    "    addr.Street = \"\"\n",
    "    addr.City = \"\"\n",
    "    addr.Zip = \"\"\n",
    "}\n",
    "resetAddressFix(&emptyAddress)\n",
    "fmt.Println(emptyAddress)"
   ]
  },
  {
   "cell_type": "markdown",
   "metadata": {},
   "source": [
    "## Extension functions"
   ]
  },
  {
   "cell_type": "code",
   "execution_count": 25,
   "metadata": {},
   "outputs": [],
   "source": [
    "func (addr *Address) setHome() {\n",
    "    addr.Street = \"Somewhere\"\n",
    "    addr.City = \"Patan\"\n",
    "    addr.Zip = \"44600\"\n",
    "}"
   ]
  },
  {
   "cell_type": "code",
   "execution_count": 26,
   "metadata": {},
   "outputs": [
    {
     "name": "stdout",
     "output_type": "stream",
     "text": [
      "{Somewhere Patan 44600}\n"
     ]
    },
    {
     "data": {
      "text/plain": [
       "24 <nil>"
      ]
     },
     "execution_count": 26,
     "metadata": {},
     "output_type": "execute_result"
    }
   ],
   "source": [
    "emptyAddress := Address {}\n",
    "emptyAddress.setHome()\n",
    "fmt.Println(emptyAddress)"
   ]
  },
  {
   "cell_type": "code",
   "execution_count": 27,
   "metadata": {},
   "outputs": [],
   "source": [
    "type Ticker struct {\n",
    "    Symbol string\n",
    "    Ltp float32\n",
    "}"
   ]
  },
  {
   "cell_type": "code",
   "execution_count": 28,
   "metadata": {},
   "outputs": [
    {
     "data": {
      "text/plain": [
       "{AKPL 100}"
      ]
     },
     "execution_count": 28,
     "metadata": {},
     "output_type": "execute_result"
    }
   ],
   "source": [
    "ticker := Ticker {\"AKPL\", 100}\n",
    "ticker"
   ]
  },
  {
   "cell_type": "markdown",
   "metadata": {},
   "source": [
    "Anonymous struct"
   ]
  },
  {
   "cell_type": "code",
   "execution_count": 29,
   "metadata": {},
   "outputs": [
    {
     "name": "stdout",
     "output_type": "stream",
     "text": [
      "{Tesla S}\n"
     ]
    },
    {
     "data": {
      "text/plain": [
       "10 <nil>"
      ]
     },
     "execution_count": 29,
     "metadata": {},
     "output_type": "execute_result"
    }
   ],
   "source": [
    "car := struct { \n",
    "    Make string \n",
    "    Model string\n",
    "} {\n",
    "    Make: \"Tesla\",\n",
    "    Model: \"S\",\n",
    "}\n",
    "fmt.Println(car)"
   ]
  },
  {
   "cell_type": "code",
   "execution_count": 30,
   "metadata": {},
   "outputs": [
    {
     "name": "stdout",
     "output_type": "stream",
     "text": [
      "{Tesla X {300 Steel}}\n",
      "Steel\n"
     ]
    },
    {
     "data": {
      "text/plain": [
       "6 <nil>"
      ]
     },
     "execution_count": 30,
     "metadata": {},
     "output_type": "execute_result"
    }
   ],
   "source": [
    "type Car struct {\n",
    "    Make string\n",
    "    Model string\n",
    "    Wheel struct {\n",
    "        Radius float32\n",
    "        Material string\n",
    "    }\n",
    "}\n",
    "\n",
    "car := Car {\n",
    "    Make: \"Tesla\",\n",
    "    Model: \"X\",\n",
    "    Wheel: { 300, \"Steel\" },\n",
    "}\n",
    "\n",
    "fmt.Println(car)\n",
    "fmt.Println(car.Wheel.Material)"
   ]
  },
  {
   "cell_type": "markdown",
   "metadata": {},
   "source": [
    "# JSON"
   ]
  },
  {
   "cell_type": "code",
   "execution_count": 61,
   "metadata": {},
   "outputs": [
    {
     "name": "stdout",
     "output_type": "stream",
     "text": [
      "{21st Jump Street FL 93291}\n"
     ]
    },
    {
     "data": {
      "text/plain": [
       "28 <nil>"
      ]
     },
     "execution_count": 61,
     "metadata": {},
     "output_type": "execute_result"
    }
   ],
   "source": [
    "import (\n",
    "    \"io/ioutil\"\n",
    "    \"encoding/json\"\n",
    ")\n",
    "\n",
    "type Address struct { \n",
    "    Street string `json:\"street_name\"` // these are struct tags\n",
    "    City string\n",
    "    Zip string `json:\"zip_code\"`\n",
    "}\n",
    "\n",
    "data, err := ioutil.ReadFile(\"address.json\")\n",
    "if err != nil {\n",
    "    panic(err)\n",
    "}\n",
    "address := Address {}\n",
    "err = json.Unmarshal(data, &address)\n",
    "if err != nil {\n",
    "    panic(err)\n",
    "}\n",
    "fmt.Println(address)"
   ]
  },
  {
   "cell_type": "markdown",
   "metadata": {},
   "source": [
    "# Interface"
   ]
  },
  {
   "cell_type": "code",
   "execution_count": 31,
   "metadata": {},
   "outputs": [],
   "source": [
    "\n",
    "type shape interface {\n",
    "    area() float64\n",
    "    perimeter() float64\n",
    "}\n",
    "\n",
    "type rect struct {\n",
    "    width, height float64\n",
    "}\n",
    "\n",
    "func (r rect) area() float64 {\n",
    "    return r.width * r.height\n",
    "}\n",
    "\n",
    "func (r rect) perimeter() float64 {\n",
    "    return 2 * (r.width + r.height)\n",
    "}\n",
    "\n",
    "type circle struct {\n",
    "    radius float64\n",
    "}\n",
    "\n",
    "import \"math\"\n",
    "\n",
    "func (r circle) area() float64 {\n",
    "    return math.Pi * r.radius * r.radius\n",
    "}\n",
    "\n",
    "func (r circle) perimeter() float64 {\n",
    "    return 2 * math.Pi * r.radius\n",
    "}"
   ]
  },
  {
   "cell_type": "code",
   "execution_count": 32,
   "metadata": {},
   "outputs": [
    {
     "name": "stdout",
     "output_type": "stream",
     "text": [
      "Area 100, Perimeter 40\n",
      "Area 314.1592653589793, Perimeter 62.83185307179586\n"
     ]
    }
   ],
   "source": [
    "\n",
    "func shapeInfo(sh shape) {\n",
    "    fmt.Printf(\"Area %v, Perimeter %v\\n\", sh.area(), sh.perimeter())\n",
    "}\n",
    "\n",
    "shapeInfo(rect{10, 10})\n",
    "shapeInfo(circle{10})"
   ]
  },
  {
   "cell_type": "code",
   "execution_count": 33,
   "metadata": {},
   "outputs": [],
   "source": [
    "func (r rect) String() string {\n",
    "    return fmt.Sprintf(\"rect { %v, %v }\", r.width, r.height)\n",
    "}"
   ]
  },
  {
   "cell_type": "code",
   "execution_count": 34,
   "metadata": {},
   "outputs": [
    {
     "name": "stdout",
     "output_type": "stream",
     "text": [
      "{100 20} rect { 20, 100 }\n"
     ]
    },
    {
     "data": {
      "text/plain": [
       "26 <nil>"
      ]
     },
     "execution_count": 34,
     "metadata": {},
     "output_type": "execute_result"
    }
   ],
   "source": [
    "r := rect{100, 20}\n",
    "fmt.Println(r, rect{20, 100}.String())"
   ]
  },
  {
   "cell_type": "markdown",
   "metadata": {},
   "source": [
    "# Errors"
   ]
  },
  {
   "cell_type": "code",
   "execution_count": 35,
   "metadata": {},
   "outputs": [
    {
     "name": "stdout",
     "output_type": "stream",
     "text": [
      "test\n",
      "String is empty\n"
     ]
    }
   ],
   "source": [
    "import \"strings\"\n",
    "import \"errors\"\n",
    "import \"fmt\"\n",
    "\n",
    "func assertNotEmpty(str string) (string, error) {\n",
    "    str := strings.TrimSpace(str)\n",
    "    if len(str) == 0 {\n",
    "        return \"\", errors.New(\"String is empty\")\n",
    "    }\n",
    "    return str, nil\n",
    "}\n",
    "\n",
    "val, err := assertNotEmpty(\"test\")\n",
    "if err != nil {\n",
    "    fmt.Println(\"%v\", err)\n",
    "} else {\n",
    "    fmt.Println(val)\n",
    "}\n",
    "\n",
    "\n",
    "val, err := assertNotEmpty(\"\")\n",
    "if err != nil {\n",
    "    fmt.Println(err)\n",
    "} else {\n",
    "    fmt.Println(val)\n",
    "}"
   ]
  },
  {
   "cell_type": "code",
   "execution_count": 36,
   "metadata": {},
   "outputs": [],
   "source": [
    "func sum(s []int, channel chan int) {\n",
    "    sum := 0\n",
    "    for _, v := range s {\n",
    "        sum += v\n",
    "    }\n",
    "    channel <- sum\n",
    "}"
   ]
  },
  {
   "cell_type": "code",
   "execution_count": 37,
   "metadata": {},
   "outputs": [],
   "source": [
    "import \"fmt\"\n",
    "\n",
    "c := make(chan int)\n",
    "go sum([]int {1,2,3,4,5}, c)\n",
    "go sum([]int {10,20,30,40,50}, c)\n",
    "go sum([]int {10, 20}, c)\n"
   ]
  },
  {
   "cell_type": "code",
   "execution_count": 38,
   "metadata": {},
   "outputs": [
    {
     "name": "stdout",
     "output_type": "stream",
     "text": [
      "30 15 150\n"
     ]
    },
    {
     "data": {
      "text/plain": [
       "10 <nil>"
      ]
     },
     "execution_count": 38,
     "metadata": {},
     "output_type": "execute_result"
    }
   ],
   "source": [
    "x, y, z := <-c, <-c, <-c\n",
    "fmt.Println(x, y, z)"
   ]
  },
  {
   "cell_type": "code",
   "execution_count": null,
   "metadata": {},
   "outputs": [],
   "source": []
  }
 ],
 "metadata": {
  "kernelspec": {
   "display_name": "Go",
   "language": "go",
   "name": "gophernotes"
  },
  "language_info": {
   "codemirror_mode": "",
   "file_extension": ".go",
   "mimetype": "",
   "name": "go",
   "nbconvert_exporter": "",
   "pygments_lexer": "",
   "version": "go1.11.4"
  }
 },
 "nbformat": 4,
 "nbformat_minor": 2
}
